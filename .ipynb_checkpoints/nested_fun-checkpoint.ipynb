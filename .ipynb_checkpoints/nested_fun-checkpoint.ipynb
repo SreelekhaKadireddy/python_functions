{
 "cells": [
  {
   "cell_type": "code",
   "execution_count": 1,
   "id": "3965132d-a4c3-4ab5-9cf8-1923d60b5371",
   "metadata": {},
   "outputs": [
    {
     "name": "stdout",
     "output_type": "stream",
     "text": [
      "outer function\n"
     ]
    }
   ],
   "source": [
    "#nested or inner function\n",
    "def outer():\n",
    "    print(\"outer function\")\n",
    "    def inner():\n",
    "        print(\"inner function\")\n",
    "outer()"
   ]
  },
  {
   "cell_type": "code",
   "execution_count": 3,
   "id": "769d706c-a21e-4664-9890-5a2ed748282b",
   "metadata": {},
   "outputs": [
    {
     "name": "stdout",
     "output_type": "stream",
     "text": [
      "outer function\n"
     ]
    },
    {
     "ename": "NameError",
     "evalue": "name 'inner' is not defined",
     "output_type": "error",
     "traceback": [
      "\u001b[1;31m---------------------------------------------------------------------------\u001b[0m",
      "\u001b[1;31mNameError\u001b[0m                                 Traceback (most recent call last)",
      "Cell \u001b[1;32mIn[3], line 6\u001b[0m\n\u001b[0;32m      4\u001b[0m         \u001b[38;5;28mprint\u001b[39m(\u001b[38;5;124m\"\u001b[39m\u001b[38;5;124minner function\u001b[39m\u001b[38;5;124m\"\u001b[39m)\n\u001b[0;32m      5\u001b[0m outer()\n\u001b[1;32m----> 6\u001b[0m \u001b[43minner\u001b[49m() \u001b[38;5;66;03m#scope of inner fu is within the outer fun\u001b[39;00m\n",
      "\u001b[1;31mNameError\u001b[0m: name 'inner' is not defined"
     ]
    }
   ],
   "source": [
    "def outer():\n",
    "    print(\"outer function\")\n",
    "    def inner():\n",
    "        print(\"inner function\")\n",
    "outer()\n",
    "inner() #scope of inner fu is within the outer fun"
   ]
  },
  {
   "cell_type": "code",
   "execution_count": 5,
   "id": "2fd82a6f-2e12-4134-a7ff-89c744f80132",
   "metadata": {},
   "outputs": [
    {
     "name": "stdout",
     "output_type": "stream",
     "text": [
      "outer function\n",
      "inner function\n",
      "300\n"
     ]
    }
   ],
   "source": [
    "def outer():\n",
    "    a=100\n",
    "    print(\"outer function\")\n",
    "    def inner():\n",
    "        print(\"inner function\")\n",
    "        b=200\n",
    "        print(a+b)\n",
    "    return inner\n",
    "x=outer()\n",
    "x() #reference of inner function"
   ]
  },
  {
   "cell_type": "code",
   "execution_count": 10,
   "id": "77e927de-6023-4be1-8c3f-6e5ceab63709",
   "metadata": {},
   "outputs": [
    {
     "name": "stdout",
     "output_type": "stream",
     "text": [
      "200\n",
      "100\n"
     ]
    },
    {
     "ename": "NameError",
     "evalue": "name 'b' is not defined",
     "output_type": "error",
     "traceback": [
      "\u001b[1;31m---------------------------------------------------------------------------\u001b[0m",
      "\u001b[1;31mNameError\u001b[0m                                 Traceback (most recent call last)",
      "Cell \u001b[1;32mIn[10], line 8\u001b[0m\n\u001b[0;32m      6\u001b[0m add(a,b\u001b[38;5;241m=\u001b[39m\u001b[38;5;241m20\u001b[39m)\n\u001b[0;32m      7\u001b[0m \u001b[38;5;28mprint\u001b[39m(a)\n\u001b[1;32m----> 8\u001b[0m \u001b[38;5;28mprint\u001b[39m(\u001b[43mb\u001b[49m)\n",
      "\u001b[1;31mNameError\u001b[0m: name 'b' is not defined"
     ]
    }
   ],
   "source": [
    "#scope of variables\n",
    "a=100 #global var\n",
    "def add(a,b):\n",
    "    b=100 #local var\n",
    "    print(a+b)\n",
    "add(a,b=20)\n",
    "print(a)\n",
    "print(b)"
   ]
  },
  {
   "cell_type": "code",
   "execution_count": null,
   "id": "2e3859dc-9751-4cdf-a196-a08ca1ee8404",
   "metadata": {},
   "outputs": [],
   "source": []
  }
 ],
 "metadata": {
  "kernelspec": {
   "display_name": "Python 3 (ipykernel)",
   "language": "python",
   "name": "python3"
  },
  "language_info": {
   "codemirror_mode": {
    "name": "ipython",
    "version": 3
   },
   "file_extension": ".py",
   "mimetype": "text/x-python",
   "name": "python",
   "nbconvert_exporter": "python",
   "pygments_lexer": "ipython3",
   "version": "3.10.2"
  }
 },
 "nbformat": 4,
 "nbformat_minor": 5
}
