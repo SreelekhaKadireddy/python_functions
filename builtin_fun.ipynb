{
 "cells": [
  {
   "cell_type": "code",
   "execution_count": 2,
   "id": "c3686d17-b618-4aa2-afcf-3e7d214ad081",
   "metadata": {},
   "outputs": [
    {
     "name": "stdout",
     "output_type": "stream",
     "text": [
      "<map object at 0x00000270CBA5BDF0>\n"
     ]
    }
   ],
   "source": [
    "#map(),filter()\n",
    "#map(function,iterable objct)\n",
    "def addone(mark):\n",
    "    return mark+1\n",
    "marks=[30,40,50,45]\n",
    "new_marks=map(addone,marks)\n",
    "print(new_marks) #returns map object"
   ]
  },
  {
   "cell_type": "code",
   "execution_count": 3,
   "id": "9c796f0c-2f43-408a-aab0-4071a98f4670",
   "metadata": {},
   "outputs": [
    {
     "name": "stdout",
     "output_type": "stream",
     "text": [
      "[31, 41, 51, 46]\n"
     ]
    }
   ],
   "source": [
    "def addone(mark):\n",
    "    return mark+1\n",
    "marks=[30,40,50,45]\n",
    "new_marks=map(addone,marks)\n",
    "print(list(new_marks))"
   ]
  },
  {
   "cell_type": "code",
   "execution_count": 4,
   "id": "89adc8ad-368b-421e-a709-0bed859916f0",
   "metadata": {},
   "outputs": [
    {
     "name": "stdout",
     "output_type": "stream",
     "text": [
      "[31, 41, 51, 46]\n"
     ]
    }
   ],
   "source": [
    "#map fun using lambda function\n",
    "marks=[30,40,50,45]\n",
    "new_marks=map(lambda mark:mark+1,marks)\n",
    "print(list(new_marks))"
   ]
  },
  {
   "cell_type": "code",
   "execution_count": 5,
   "id": "5bc01284-0df1-4971-b4a4-d813878b8b5f",
   "metadata": {},
   "outputs": [
    {
     "name": "stdout",
     "output_type": "stream",
     "text": [
      "['ABC', 'LMN', 'XYZ']\n"
     ]
    }
   ],
   "source": [
    "def convertUpper(s):\n",
    "    return s.upper()\n",
    "s1=['abc','lmn','xyz']\n",
    "s2=map(convertUpper,s1)\n",
    "print(list(s2))\n"
   ]
  },
  {
   "cell_type": "code",
   "execution_count": 6,
   "id": "245d434f-98ad-4666-9f0c-ec34503c4637",
   "metadata": {},
   "outputs": [
    {
     "name": "stdout",
     "output_type": "stream",
     "text": [
      "['ABC', 'LMN', 'XYZ']\n"
     ]
    }
   ],
   "source": [
    "s1=['abc','lmn','xyz']\n",
    "s2=map(lambda s:s.upper(),s1)\n",
    "print(list(s2))"
   ]
  },
  {
   "cell_type": "code",
   "execution_count": 7,
   "id": "715c8c3c-861c-4b88-ba38-65e60aa571ea",
   "metadata": {},
   "outputs": [
    {
     "name": "stdout",
     "output_type": "stream",
     "text": [
      "[20000, 35000, 20000]\n"
     ]
    }
   ],
   "source": [
    "#filter(function,iterable object)\n",
    "def fun1(sal):\n",
    "    return sal<50000\n",
    "esal=[20000,35000,60000,20000,76000]\n",
    "new_esal=filter(fun1,esal)\n",
    "print(list(new_esal))\n"
   ]
  },
  {
   "cell_type": "code",
   "execution_count": 8,
   "id": "e3280da4-5166-4244-8b19-add43e3a9395",
   "metadata": {},
   "outputs": [
    {
     "name": "stdout",
     "output_type": "stream",
     "text": [
      "[20000, 35000, 20000]\n"
     ]
    }
   ],
   "source": [
    "esal=[20000,35000,60000,20000,76000]\n",
    "print(list(filter(lambda sal:sal<50000,esal)))"
   ]
  },
  {
   "cell_type": "code",
   "execution_count": null,
   "id": "c16bd37a-8d1f-4b62-9500-942e7501b602",
   "metadata": {},
   "outputs": [],
   "source": []
  }
 ],
 "metadata": {
  "kernelspec": {
   "display_name": "Python 3 (ipykernel)",
   "language": "python",
   "name": "python3"
  },
  "language_info": {
   "codemirror_mode": {
    "name": "ipython",
    "version": 3
   },
   "file_extension": ".py",
   "mimetype": "text/x-python",
   "name": "python",
   "nbconvert_exporter": "python",
   "pygments_lexer": "ipython3",
   "version": "3.10.2"
  }
 },
 "nbformat": 4,
 "nbformat_minor": 5
}
