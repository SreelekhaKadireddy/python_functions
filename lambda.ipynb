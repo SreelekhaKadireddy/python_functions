{
 "cells": [
  {
   "cell_type": "code",
   "execution_count": 1,
   "id": "c294945e-58ea-4c02-9b8c-610791d39a8f",
   "metadata": {},
   "outputs": [
    {
     "data": {
      "text/plain": [
       "30"
      ]
     },
     "execution_count": 1,
     "metadata": {},
     "output_type": "execute_result"
    }
   ],
   "source": [
    "#lambda or ananymous or nameless function\n",
    "def add(a,b):\n",
    "    return a+b\n",
    "add(10,20)"
   ]
  },
  {
   "cell_type": "code",
   "execution_count": 4,
   "id": "1341313e-a940-49a9-8cdc-c67ad530c352",
   "metadata": {},
   "outputs": [
    {
     "name": "stdout",
     "output_type": "stream",
     "text": [
      "30\n"
     ]
    }
   ],
   "source": [
    "#replace function with lambda function to consize the code\n",
    "res=lambda a,b:a+b\n",
    "print(res(10,20))"
   ]
  },
  {
   "cell_type": "code",
   "execution_count": 5,
   "id": "b89da9e2-66cc-47ae-9e19-c18a9d053067",
   "metadata": {},
   "outputs": [
    {
     "name": "stdout",
     "output_type": "stream",
     "text": [
      "60\n"
     ]
    }
   ],
   "source": [
    "#multiply using lambda function\n",
    "mul=lambda a,b,c:a*b*c\n",
    "print(mul(10,2,3))"
   ]
  },
  {
   "cell_type": "code",
   "execution_count": null,
   "id": "8976c231-8a5b-4dd1-96e7-60dc50fc3f13",
   "metadata": {},
   "outputs": [],
   "source": []
  }
 ],
 "metadata": {
  "kernelspec": {
   "display_name": "Python 3 (ipykernel)",
   "language": "python",
   "name": "python3"
  },
  "language_info": {
   "codemirror_mode": {
    "name": "ipython",
    "version": 3
   },
   "file_extension": ".py",
   "mimetype": "text/x-python",
   "name": "python",
   "nbconvert_exporter": "python",
   "pygments_lexer": "ipython3",
   "version": "3.10.2"
  }
 },
 "nbformat": 4,
 "nbformat_minor": 5
}
